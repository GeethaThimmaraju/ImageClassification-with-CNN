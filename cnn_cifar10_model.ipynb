{
  "nbformat": 4,
  "nbformat_minor": 0,
  "metadata": {
    "colab": {
      "provenance": [],
      "gpuType": "T4"
    },
    "kernelspec": {
      "name": "python3",
      "display_name": "Python 3"
    },
    "language_info": {
      "name": "python"
    },
    "accelerator": "GPU"
  },
  "cells": [
    {
      "cell_type": "code",
      "execution_count": 12,
      "metadata": {
        "id": "6UfLbMJ5p0jl"
      },
      "outputs": [],
      "source": [
        "import tensorflow as tf\n",
        "from tensorflow.keras import datasets, layers, models\n",
        "from tensorflow.keras.preprocessing.image import ImageDataGenerator\n",
        "import matplotlib.pyplot as plt\n",
        "import numpy as np"
      ]
    },
    {
      "cell_type": "code",
      "source": [
        "# ✅ Load CIFAR-10 dataset\n",
        "(X_train, y_train), (X_test, y_test) = datasets.cifar10.load_data()\n",
        "X_train, X_test = X_train / 255.0, X_test / 255.0\n"
      ],
      "metadata": {
        "id": "O3evpq22El0K",
        "colab": {
          "base_uri": "https://localhost:8080/"
        },
        "outputId": "838418a9-f9f8-46cd-c59b-2888d6189ce5"
      },
      "execution_count": 3,
      "outputs": [
        {
          "output_type": "stream",
          "name": "stdout",
          "text": [
            "Downloading data from https://www.cs.toronto.edu/~kriz/cifar-10-python.tar.gz\n",
            "\u001b[1m170498071/170498071\u001b[0m \u001b[32m━━━━━━━━━━━━━━━━━━━━\u001b[0m\u001b[37m\u001b[0m \u001b[1m4s\u001b[0m 0us/step\n"
          ]
        }
      ]
    },
    {
      "cell_type": "code",
      "source": [
        "# Data augmentation\n",
        "datagen = ImageDataGenerator(\n",
        "    rotation_range=15,\n",
        "    width_shift_range=0.1,\n",
        "    height_shift_range=0.1,\n",
        "    horizontal_flip=True,\n",
        "    zoom_range=0.1\n",
        ")\n",
        "datagen.fit(X_train)"
      ],
      "metadata": {
        "id": "OUl-TwxmGoG7"
      },
      "execution_count": 4,
      "outputs": []
    },
    {
      "cell_type": "code",
      "source": [
        "# Build  CNN\n",
        "model = models.Sequential([\n",
        "    layers.Conv2D(64, (3,3), activation='relu', padding='same', input_shape=(32,32,3)),\n",
        "    layers.BatchNormalization(),\n",
        "    layers.Conv2D(64, (3,3), activation='relu', padding='same'),\n",
        "    layers.BatchNormalization(),\n",
        "    layers.MaxPooling2D(2,2),\n",
        "    layers.Dropout(0.3),\n",
        "\n",
        "    layers.Conv2D(128, (3,3), activation='relu', padding='same'),\n",
        "    layers.BatchNormalization(),\n",
        "    layers.Conv2D(128, (3,3), activation='relu', padding='same'),\n",
        "    layers.BatchNormalization(),\n",
        "    layers.MaxPooling2D(2,2),\n",
        "    layers.Dropout(0.4),\n",
        "\n",
        "    layers.Conv2D(256, (3,3), activation='relu', padding='same'),\n",
        "    layers.BatchNormalization(),\n",
        "    layers.Conv2D(256, (3,3), activation='relu', padding='same'),\n",
        "    layers.BatchNormalization(),\n",
        "    layers.MaxPooling2D(2,2),\n",
        "    layers.Dropout(0.5),\n",
        "\n",
        "    layers.Flatten(),\n",
        "    layers.Dense(512, activation='relu'),\n",
        "    layers.BatchNormalization(),\n",
        "    layers.Dropout(0.5),\n",
        "    layers.Dense(10, activation='softmax')\n",
        "])\n",
        "\n",
        "\n"
      ],
      "metadata": {
        "colab": {
          "base_uri": "https://localhost:8080/"
        },
        "id": "vhXcM9AUFGM9",
        "outputId": "3034281d-fdd2-456f-aac6-08ccb5450b67"
      },
      "execution_count": 5,
      "outputs": [
        {
          "output_type": "stream",
          "name": "stderr",
          "text": [
            "/usr/local/lib/python3.12/dist-packages/keras/src/layers/convolutional/base_conv.py:113: UserWarning: Do not pass an `input_shape`/`input_dim` argument to a layer. When using Sequential models, prefer using an `Input(shape)` object as the first layer in the model instead.\n",
            "  super().__init__(activity_regularizer=activity_regularizer, **kwargs)\n"
          ]
        }
      ]
    },
    {
      "cell_type": "code",
      "source": [
        "# Compile\n",
        "model.compile(optimizer=tf.keras.optimizers.Adam(learning_rate=1e-4),\n",
        "              loss='sparse_categorical_crossentropy',\n",
        "              metrics=['accuracy'])"
      ],
      "metadata": {
        "id": "RgYjEYYbGwGJ"
      },
      "execution_count": 6,
      "outputs": []
    },
    {
      "cell_type": "code",
      "source": [
        "\n",
        "# Early stopping\n",
        "callback = tf.keras.callbacks.EarlyStopping(monitor='val_accuracy', patience=5, restore_best_weights=True)"
      ],
      "metadata": {
        "id": "u8WvGpyyG1vi"
      },
      "execution_count": 7,
      "outputs": []
    },
    {
      "cell_type": "code",
      "source": [
        "# Train\n",
        "history = model.fit(datagen.flow(X_train, y_train, batch_size=64),\n",
        "                    epochs=60,\n",
        "                    validation_data=(X_test, y_test),\n",
        "                    callbacks=[callback],\n",
        "                    verbose=2)"
      ],
      "metadata": {
        "colab": {
          "base_uri": "https://localhost:8080/"
        },
        "id": "k7OW68wrG5wE",
        "outputId": "25030ea6-779e-4eb7-9dfb-ae1abe800c9f"
      },
      "execution_count": 8,
      "outputs": [
        {
          "output_type": "stream",
          "name": "stdout",
          "text": [
            "Epoch 1/60\n"
          ]
        },
        {
          "output_type": "stream",
          "name": "stderr",
          "text": [
            "/usr/local/lib/python3.12/dist-packages/keras/src/trainers/data_adapters/py_dataset_adapter.py:121: UserWarning: Your `PyDataset` class should call `super().__init__(**kwargs)` in its constructor. `**kwargs` can include `workers`, `use_multiprocessing`, `max_queue_size`. Do not pass these arguments to `fit()`, as they will be ignored.\n",
            "  self._warn_if_super_not_called()\n"
          ]
        },
        {
          "output_type": "stream",
          "name": "stdout",
          "text": [
            "782/782 - 58s - 74ms/step - accuracy: 0.3071 - loss: 2.3698 - val_accuracy: 0.4218 - val_loss: 1.7460\n",
            "Epoch 2/60\n",
            "782/782 - 32s - 41ms/step - accuracy: 0.4020 - loss: 1.8146 - val_accuracy: 0.4172 - val_loss: 1.8833\n",
            "Epoch 3/60\n",
            "782/782 - 33s - 42ms/step - accuracy: 0.4589 - loss: 1.5936 - val_accuracy: 0.4628 - val_loss: 1.6641\n",
            "Epoch 4/60\n",
            "782/782 - 33s - 42ms/step - accuracy: 0.5107 - loss: 1.4242 - val_accuracy: 0.5310 - val_loss: 1.4205\n",
            "Epoch 5/60\n",
            "782/782 - 32s - 41ms/step - accuracy: 0.5485 - loss: 1.2962 - val_accuracy: 0.5593 - val_loss: 1.3340\n",
            "Epoch 6/60\n",
            "782/782 - 32s - 41ms/step - accuracy: 0.5802 - loss: 1.1952 - val_accuracy: 0.5672 - val_loss: 1.3996\n",
            "Epoch 7/60\n",
            "782/782 - 33s - 42ms/step - accuracy: 0.6107 - loss: 1.0998 - val_accuracy: 0.6414 - val_loss: 1.0615\n",
            "Epoch 8/60\n",
            "782/782 - 32s - 41ms/step - accuracy: 0.6391 - loss: 1.0277 - val_accuracy: 0.6113 - val_loss: 1.1765\n",
            "Epoch 9/60\n",
            "782/782 - 32s - 41ms/step - accuracy: 0.6657 - loss: 0.9599 - val_accuracy: 0.6761 - val_loss: 0.9579\n",
            "Epoch 10/60\n",
            "782/782 - 33s - 42ms/step - accuracy: 0.6792 - loss: 0.9179 - val_accuracy: 0.6386 - val_loss: 1.1052\n",
            "Epoch 11/60\n",
            "782/782 - 32s - 41ms/step - accuracy: 0.6941 - loss: 0.8717 - val_accuracy: 0.7345 - val_loss: 0.7760\n",
            "Epoch 12/60\n",
            "782/782 - 33s - 42ms/step - accuracy: 0.7092 - loss: 0.8309 - val_accuracy: 0.7250 - val_loss: 0.8215\n",
            "Epoch 13/60\n",
            "782/782 - 33s - 42ms/step - accuracy: 0.7221 - loss: 0.7944 - val_accuracy: 0.7245 - val_loss: 0.8163\n",
            "Epoch 14/60\n",
            "782/782 - 32s - 40ms/step - accuracy: 0.7322 - loss: 0.7691 - val_accuracy: 0.7151 - val_loss: 0.8958\n",
            "Epoch 15/60\n",
            "782/782 - 33s - 42ms/step - accuracy: 0.7416 - loss: 0.7408 - val_accuracy: 0.7246 - val_loss: 0.8390\n",
            "Epoch 16/60\n",
            "782/782 - 32s - 41ms/step - accuracy: 0.7519 - loss: 0.7141 - val_accuracy: 0.7679 - val_loss: 0.6908\n",
            "Epoch 17/60\n",
            "782/782 - 32s - 41ms/step - accuracy: 0.7597 - loss: 0.6886 - val_accuracy: 0.7736 - val_loss: 0.6665\n",
            "Epoch 18/60\n",
            "782/782 - 33s - 42ms/step - accuracy: 0.7662 - loss: 0.6691 - val_accuracy: 0.7506 - val_loss: 0.7547\n",
            "Epoch 19/60\n",
            "782/782 - 34s - 43ms/step - accuracy: 0.7699 - loss: 0.6527 - val_accuracy: 0.7791 - val_loss: 0.6690\n",
            "Epoch 20/60\n",
            "782/782 - 33s - 42ms/step - accuracy: 0.7777 - loss: 0.6351 - val_accuracy: 0.7869 - val_loss: 0.6321\n",
            "Epoch 21/60\n",
            "782/782 - 33s - 43ms/step - accuracy: 0.7866 - loss: 0.6164 - val_accuracy: 0.7822 - val_loss: 0.6425\n",
            "Epoch 22/60\n",
            "782/782 - 33s - 42ms/step - accuracy: 0.7891 - loss: 0.6035 - val_accuracy: 0.7950 - val_loss: 0.6127\n",
            "Epoch 23/60\n",
            "782/782 - 32s - 41ms/step - accuracy: 0.7957 - loss: 0.5890 - val_accuracy: 0.8193 - val_loss: 0.5380\n",
            "Epoch 24/60\n",
            "782/782 - 33s - 42ms/step - accuracy: 0.8009 - loss: 0.5743 - val_accuracy: 0.7887 - val_loss: 0.6386\n",
            "Epoch 25/60\n",
            "782/782 - 34s - 43ms/step - accuracy: 0.8040 - loss: 0.5625 - val_accuracy: 0.8220 - val_loss: 0.5220\n",
            "Epoch 26/60\n",
            "782/782 - 32s - 41ms/step - accuracy: 0.8064 - loss: 0.5571 - val_accuracy: 0.8102 - val_loss: 0.5624\n",
            "Epoch 27/60\n",
            "782/782 - 33s - 43ms/step - accuracy: 0.8136 - loss: 0.5396 - val_accuracy: 0.8013 - val_loss: 0.5853\n",
            "Epoch 28/60\n",
            "782/782 - 34s - 43ms/step - accuracy: 0.8170 - loss: 0.5297 - val_accuracy: 0.8405 - val_loss: 0.4845\n",
            "Epoch 29/60\n",
            "782/782 - 33s - 42ms/step - accuracy: 0.8184 - loss: 0.5215 - val_accuracy: 0.8070 - val_loss: 0.5866\n",
            "Epoch 30/60\n",
            "782/782 - 34s - 43ms/step - accuracy: 0.8243 - loss: 0.5099 - val_accuracy: 0.8268 - val_loss: 0.5268\n",
            "Epoch 31/60\n",
            "782/782 - 33s - 42ms/step - accuracy: 0.8258 - loss: 0.4991 - val_accuracy: 0.8262 - val_loss: 0.5198\n",
            "Epoch 32/60\n",
            "782/782 - 33s - 42ms/step - accuracy: 0.8286 - loss: 0.4889 - val_accuracy: 0.8299 - val_loss: 0.5228\n",
            "Epoch 33/60\n",
            "782/782 - 33s - 42ms/step - accuracy: 0.8314 - loss: 0.4841 - val_accuracy: 0.8296 - val_loss: 0.5194\n"
          ]
        }
      ]
    },
    {
      "cell_type": "code",
      "source": [
        "# Evaluate\n",
        "test_loss, test_acc = model.evaluate(X_test, y_test, verbose=0)\n",
        "print(f\"✅ Test Accuracy: {test_acc*100:.2f}%\")"
      ],
      "metadata": {
        "colab": {
          "base_uri": "https://localhost:8080/"
        },
        "id": "uQ_DUXhvG9fh",
        "outputId": "e395b32b-128d-4ddb-eb0f-80153c9a655b"
      },
      "execution_count": 9,
      "outputs": [
        {
          "output_type": "stream",
          "name": "stdout",
          "text": [
            "✅ Test Accuracy: 84.05%\n"
          ]
        }
      ]
    },
    {
      "cell_type": "code",
      "source": [
        "# Plot accuracy\n",
        "plt.plot(history.history['accuracy'], label='Train Acc')\n",
        "plt.plot(history.history['val_accuracy'], label='Val Acc')\n",
        "plt.legend(); plt.title(\"Training vs Validation Accuracy\"); plt.show()"
      ],
      "metadata": {
        "colab": {
          "base_uri": "https://localhost:8080/",
          "height": 452
        },
        "id": "DLJ7_PiJHFaS",
        "outputId": "e85f0fcd-d8d2-494b-cdc8-4a43af06b7f6"
      },
      "execution_count": 10,
      "outputs": [
        {
          "output_type": "display_data",
          "data": {
            "text/plain": [
              "<Figure size 640x480 with 1 Axes>"
            ],
            "image/png": "[encoded data removed]"
          },
          "metadata": {}
        }
      ]
    },
    {
      "cell_type": "code",
      "source": [
        "# Step 10: Save model\n",
        "model.save('cnn_cifar10_model.h5')\n",
        "print(\"✅ Model saved successfully!\")"
      ],
      "metadata": {
        "colab": {
          "base_uri": "https://localhost:8080/"
        },
        "id": "ToYZg3NuGSYj",
        "outputId": "0efb39ec-3d71-414b-c641-bd19b4bc3cb7"
      },
      "execution_count": 14,
      "outputs": [
        {
          "output_type": "stream",
          "name": "stderr",
          "text": [
            "WARNING:absl:You are saving your model as an HDF5 file via `model.save()` or `keras.saving.save_model(model)`. This file format is considered legacy. We recommend using instead the native Keras format, e.g. `model.save('my_model.keras')` or `keras.saving.save_model(model, 'my_model.keras')`. \n"
          ]
        },
        {
          "output_type": "stream",
          "name": "stdout",
          "text": [
            "✅ Model saved successfully!\n"
          ]
        }
      ]
    },
    {
      "cell_type": "code",
      "source": [
        "# download model for streamlit\n",
        "from google.colab import files\n",
        "files.download('cnn_cifar10_model.h5')"
      ],
      "metadata": {
        "colab": {
          "base_uri": "https://localhost:8080/",
          "height": 17
        },
        "id": "27lMSDVJGjQx",
        "outputId": "26161858-98ae-4a4c-cc8a-ef2e86c279a3"
      },
      "execution_count": 15,
      "outputs": [
        {
          "output_type": "display_data",
          "data": {
            "text/plain": [
              "<IPython.core.display.Javascript object>"
            ],
            "application/javascript": [
              "\n",
              "    async function download(id, filename, size) {\n",
              "      if (!google.colab.kernel.accessAllowed) {\n",
              "        return;\n",
              "      }\n",
              "      const div = document.createElement('div');\n",
              "      const label = document.createElement('label');\n",
              "      label.textContent = `Downloading \"${filename}\": `;\n",
              "      div.appendChild(label);\n",
              "      const progress = document.createElement('progress');\n",
              "      progress.max = size;\n",
              "      div.appendChild(progress);\n",
              "      document.body.appendChild(div);\n",
              "\n",
              "      const buffers = [];\n",
              "      let downloaded = 0;\n",
              "\n",
              "      const channel = await google.colab.kernel.comms.open(id);\n",
              "      // Send a message to notify the kernel that we're ready.\n",
              "      channel.send({})\n",
              "\n",
              "      for await (const message of channel.messages) {\n",
              "        // Send a message to notify the kernel that we're ready.\n",
              "        channel.send({})\n",
              "        if (message.buffers) {\n",
              "          for (const buffer of message.buffers) {\n",
              "            buffers.push(buffer);\n",
              "            downloaded += buffer.byteLength;\n",
              "            progress.value = downloaded;\n",
              "          }\n",
              "        }\n",
              "      }\n",
              "      const blob = new Blob(buffers, {type: 'application/binary'});\n",
              "      const a = document.createElement('a');\n",
              "      a.href = window.URL.createObjectURL(blob);\n",
              "      a.download = filename;\n",
              "      div.appendChild(a);\n",
              "      a.click();\n",
              "      div.remove();\n",
              "    }\n",
              "  "
            ]
          },
          "metadata": {}
        },
        {
          "output_type": "display_data",
          "data": {
            "text/plain": [
              "<IPython.core.display.Javascript object>"
            ],
            "application/javascript": [
              "download(\"download_c0eab13c-9d53-4ff5-a413-f69035ebb4e9\", \"cnn_cifar10_model.h5\", 39153888)"
            ]
          },
          "metadata": {}
        }
      ]
    },
    {
      "cell_type": "code",
      "source": [],
      "metadata": {
        "id": "j4qnEw8aMgz1"
      },
      "execution_count": null,
      "outputs": []
    }
  ]
}